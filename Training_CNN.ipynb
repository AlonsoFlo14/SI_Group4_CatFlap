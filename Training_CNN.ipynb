{
 "cells": [
  {
   "cell_type": "markdown",
   "metadata": {},
   "source": [
    "# CNN - Training - Dog Breed Detection"
   ]
  },
  {
   "cell_type": "markdown",
   "metadata": {},
   "source": [
    "## Librairies"
   ]
  },
  {
   "cell_type": "code",
   "execution_count": 1,
   "metadata": {},
   "outputs": [],
   "source": [
    "import os\n",
    "import re\n",
    "import h5py\n",
    "import PIL\n",
    "import cv2\n",
    "import numpy as np   \n",
    "import pandas as pd\n",
    "from tqdm import tqdm\n",
    "from tensorflow.keras import regularizers\n",
    "from tensorflow.keras.preprocessing import image\n",
    "from tensorflow.keras.layers import Input, Dense, Activation, Flatten, Dropout, Lambda, BatchNormalization\n",
    "from tensorflow.keras.layers import Conv2D\n",
    "from tensorflow.keras.layers import MaxPooling2D\n",
    "from tensorflow.keras.models import Model,load_model,Sequential\n",
    "from tensorflow.keras.callbacks import TensorBoard,ModelCheckpoint\n",
    "from tensorflow.keras.utils import to_categorical\n",
    "from sklearn.preprocessing import MinMaxScaler,LabelEncoder\n",
    "from sklearn.model_selection import train_test_split"
   ]
  },
  {
   "cell_type": "code",
   "execution_count": 2,
   "metadata": {},
   "outputs": [],
   "source": [
    "normalize=0\n",
    "#num_classes = 10\n",
    "img_height = 224\n",
    "img_width = 224"
   ]
  },
  {
   "cell_type": "markdown",
   "metadata": {},
   "source": [
    "## Monitoring the training"
   ]
  },
  {
   "cell_type": "code",
   "execution_count": 3,
   "metadata": {},
   "outputs": [],
   "source": [
    "def generate_unique_logpath(logdir, raw_run_name):\n",
    "    i = 0\n",
    "    while(True):\n",
    "        run_name = raw_run_name + \"-\" + str(i)\n",
    "        log_path = os.path.join(logdir, run_name)\n",
    "        if not os.path.isdir(log_path):\n",
    "            return log_path\n",
    "        i = i + 1"
   ]
  },
  {
   "cell_type": "markdown",
   "metadata": {},
   "source": [
    "## Pre-processing"
   ]
  },
  {
   "cell_type": "code",
   "execution_count": 4,
   "metadata": {},
   "outputs": [],
   "source": [
    "def path_to_tensor(img_path):\n",
    "    gray = cv2.imread(img_path, 0)\n",
    "    resized_gray = cv2.resize(gray,(img_height,img_width))\n",
    "    x = np.array(resized_gray)\n",
    "    return np.expand_dims(x, axis=0)\n",
    "\n",
    "def paths_to_tensor(img_paths):\n",
    "    list_of_tensors = [path_to_tensor(img_path) for img_path in tqdm(img_paths)]\n",
    "    return np.vstack(list_of_tensors)"
   ]
  },
  {
   "cell_type": "code",
   "execution_count": 5,
   "metadata": {},
   "outputs": [
    {
     "name": "stdout",
     "output_type": "stream",
     "text": [
      "['../dogFlap/dog-breed-identification/train/000bec180eb18c7604dcecc8fe0dba07.jpg', '../dogFlap/dog-breed-identification/train/001513dfcb2ffafc82cccf4d8bbaba97.jpg', '../dogFlap/dog-breed-identification/train/001cdf01b096e06d78e9e5112d419397.jpg', '../dogFlap/dog-breed-identification/train/00214f311d5d2247d5dfe4fe24b2303d.jpg']\n",
      "\n",
      "['../dogFlap/dog-breed-identification/test/000621fb3cbb32d8935728e48679680e.jpg', '../dogFlap/dog-breed-identification/test/00102ee9d8eb90812350685311fe5890.jpg', '../dogFlap/dog-breed-identification/test/0012a730dfa437f5f3613fb75efcd4ce.jpg', '../dogFlap/dog-breed-identification/test/001510bc8570bbeee98c8d80c8a95ec1.jpg']\n"
     ]
    }
   ],
   "source": [
    "train_dir = '../dogFlap/dog-breed-identification/train/'\n",
    "test_dir = '../dogFlap/dog-breed-identification/test/'\n",
    "list_train = [train_dir+f for f in os.listdir(train_dir) if re.search('jpg|JPG', f)]\n",
    "list_test = [test_dir+f for f in os.listdir(test_dir) if re.search('jpg|JPG', f)]\n",
    "print(list_train[0:4])\n",
    "print()\n",
    "print(list_test[0:4])"
   ]
  },
  {
   "cell_type": "code",
   "execution_count": 6,
   "metadata": {},
   "outputs": [
    {
     "data": {
      "text/html": [
       "<div>\n",
       "<style scoped>\n",
       "    .dataframe tbody tr th:only-of-type {\n",
       "        vertical-align: middle;\n",
       "    }\n",
       "\n",
       "    .dataframe tbody tr th {\n",
       "        vertical-align: top;\n",
       "    }\n",
       "\n",
       "    .dataframe thead th {\n",
       "        text-align: right;\n",
       "    }\n",
       "</style>\n",
       "<table border=\"1\" class=\"dataframe\">\n",
       "  <thead>\n",
       "    <tr style=\"text-align: right;\">\n",
       "      <th></th>\n",
       "      <th>id</th>\n",
       "      <th>breed</th>\n",
       "    </tr>\n",
       "  </thead>\n",
       "  <tbody>\n",
       "    <tr>\n",
       "      <th>0</th>\n",
       "      <td>000bec180eb18c7604dcecc8fe0dba07</td>\n",
       "      <td>boston_bull</td>\n",
       "    </tr>\n",
       "    <tr>\n",
       "      <th>1</th>\n",
       "      <td>001513dfcb2ffafc82cccf4d8bbaba97</td>\n",
       "      <td>dingo</td>\n",
       "    </tr>\n",
       "    <tr>\n",
       "      <th>2</th>\n",
       "      <td>001cdf01b096e06d78e9e5112d419397</td>\n",
       "      <td>pekinese</td>\n",
       "    </tr>\n",
       "    <tr>\n",
       "      <th>3</th>\n",
       "      <td>00214f311d5d2247d5dfe4fe24b2303d</td>\n",
       "      <td>bluetick</td>\n",
       "    </tr>\n",
       "    <tr>\n",
       "      <th>4</th>\n",
       "      <td>0021f9ceb3235effd7fcde7f7538ed62</td>\n",
       "      <td>golden_retriever</td>\n",
       "    </tr>\n",
       "  </tbody>\n",
       "</table>\n",
       "</div>"
      ],
      "text/plain": [
       "                                 id             breed\n",
       "0  000bec180eb18c7604dcecc8fe0dba07       boston_bull\n",
       "1  001513dfcb2ffafc82cccf4d8bbaba97             dingo\n",
       "2  001cdf01b096e06d78e9e5112d419397          pekinese\n",
       "3  00214f311d5d2247d5dfe4fe24b2303d          bluetick\n",
       "4  0021f9ceb3235effd7fcde7f7538ed62  golden_retriever"
      ]
     },
     "execution_count": 6,
     "metadata": {},
     "output_type": "execute_result"
    }
   ],
   "source": [
    "data = pd.read_csv('../dogFlap/dog-breed-identification/labels.csv')\n",
    "data.head(5)"
   ]
  },
  {
   "cell_type": "code",
   "execution_count": 7,
   "metadata": {},
   "outputs": [
    {
     "data": {
      "text/plain": [
       "10222"
      ]
     },
     "execution_count": 7,
     "metadata": {},
     "output_type": "execute_result"
    }
   ],
   "source": [
    "train_labels = data.iloc[:,1].values\n",
    "train_labels.shape[0]"
   ]
  },
  {
   "cell_type": "code",
   "execution_count": 8,
   "metadata": {},
   "outputs": [
    {
     "data": {
      "text/html": [
       "<div>\n",
       "<style scoped>\n",
       "    .dataframe tbody tr th:only-of-type {\n",
       "        vertical-align: middle;\n",
       "    }\n",
       "\n",
       "    .dataframe tbody tr th {\n",
       "        vertical-align: top;\n",
       "    }\n",
       "\n",
       "    .dataframe thead th {\n",
       "        text-align: right;\n",
       "    }\n",
       "</style>\n",
       "<table border=\"1\" class=\"dataframe\">\n",
       "  <thead>\n",
       "    <tr style=\"text-align: right;\">\n",
       "      <th></th>\n",
       "      <th>count</th>\n",
       "    </tr>\n",
       "    <tr>\n",
       "      <th>breed</th>\n",
       "      <th></th>\n",
       "    </tr>\n",
       "  </thead>\n",
       "  <tbody>\n",
       "    <tr>\n",
       "      <th>scottish_deerhound</th>\n",
       "      <td>126</td>\n",
       "    </tr>\n",
       "    <tr>\n",
       "      <th>maltese_dog</th>\n",
       "      <td>117</td>\n",
       "    </tr>\n",
       "    <tr>\n",
       "      <th>afghan_hound</th>\n",
       "      <td>116</td>\n",
       "    </tr>\n",
       "    <tr>\n",
       "      <th>entlebucher</th>\n",
       "      <td>115</td>\n",
       "    </tr>\n",
       "    <tr>\n",
       "      <th>bernese_mountain_dog</th>\n",
       "      <td>114</td>\n",
       "    </tr>\n",
       "  </tbody>\n",
       "</table>\n",
       "</div>"
      ],
      "text/plain": [
       "                      count\n",
       "breed                      \n",
       "scottish_deerhound      126\n",
       "maltese_dog             117\n",
       "afghan_hound            116\n",
       "entlebucher             115\n",
       "bernese_mountain_dog    114"
      ]
     },
     "execution_count": 8,
     "metadata": {},
     "output_type": "execute_result"
    }
   ],
   "source": [
    "dog_names = data.groupby(\"breed\").count()\n",
    "dog_names = dog_names.rename(columns = {\"id\" : \"count\"})\n",
    "dog_names = dog_names.sort_values(\"count\", ascending=False)\n",
    "dog_names.head()"
   ]
  },
  {
   "cell_type": "code",
   "execution_count": 9,
   "metadata": {},
   "outputs": [
    {
     "name": "stdout",
     "output_type": "stream",
     "text": [
      "10222\n",
      "10357\n",
      "120\n",
      "train_labels.shape (10222,)\n"
     ]
    }
   ],
   "source": [
    "print(len(list_train))\n",
    "print(len(list_test))\n",
    "print(len(dog_names))\n",
    "print('train_labels.shape',train_labels.shape)"
   ]
  },
  {
   "cell_type": "code",
   "execution_count": 10,
   "metadata": {},
   "outputs": [
    {
     "name": "stderr",
     "output_type": "stream",
     "text": [
      "100%|███████████████████████████████████████████████████████████████████████████| 10222/10222 [00:20<00:00, 495.86it/s]\n"
     ]
    }
   ],
   "source": [
    "train_tensors = paths_to_tensor(list_train)"
   ]
  },
  {
   "cell_type": "code",
   "execution_count": 11,
   "metadata": {},
   "outputs": [],
   "source": [
    "X_train, X_test, y_train, y_test = train_test_split(train_tensors,train_labels,test_size=0.30,random_state=42)"
   ]
  },
  {
   "cell_type": "code",
   "execution_count": 13,
   "metadata": {},
   "outputs": [
    {
     "name": "stdout",
     "output_type": "stream",
     "text": [
      "7155\n",
      "3067\n"
     ]
    }
   ],
   "source": [
    "num_train  = X_train.shape[0]\n",
    "num_test   = X_test.shape[0]\n",
    "\n",
    "img_height = X_train.shape[1]\n",
    "img_width  = X_train.shape[2]\n",
    "X_train = X_train.reshape(num_train, img_width , img_height,1)\n",
    "X_test  = X_test.reshape(num_test, img_width , img_height,1)\n",
    "\n",
    "y_train = np.array(y_train)\n",
    "label_encoder_train = LabelEncoder()\n",
    "y_train = label_encoder_train.fit_transform(y_train)\n",
    "y_train = to_categorical(y_train)\n",
    "print(y_train.shape[0])\n",
    "y_test = np.array(y_test)\n",
    "label_encoder_test = LabelEncoder()\n",
    "y_test = label_encoder_test.fit_transform(y_test)\n",
    "y_test = to_categorical(y_test)\n",
    "print(y_test.shape[0])"
   ]
  },
  {
   "cell_type": "markdown",
   "metadata": {},
   "source": [
    "## Normalization"
   ]
  },
  {
   "cell_type": "code",
   "execution_count": 14,
   "metadata": {},
   "outputs": [],
   "source": [
    "if normalize :\n",
    "    scaler = MinMaxScaler()\n",
    "    scaler.fit(X_train)\n",
    "    X_train=scaler.transform(X_train)\n",
    "    X_test=scaler.transform(X_test)"
   ]
  },
  {
   "cell_type": "markdown",
   "metadata": {},
   "source": [
    "## Construction of the network"
   ]
  },
  {
   "cell_type": "code",
   "execution_count": 15,
   "metadata": {},
   "outputs": [
    {
     "name": "stdout",
     "output_type": "stream",
     "text": [
      "Model: \"model\"\n",
      "_________________________________________________________________\n",
      "Layer (type)                 Output Shape              Param #   \n",
      "=================================================================\n",
      "input_1 (InputLayer)         [(None, 224, 224, 1)]     0         \n",
      "_________________________________________________________________\n",
      "lambda (Lambda)              (None, 224, 224, 1)       0         \n",
      "_________________________________________________________________\n",
      "conv2d (Conv2D)              (None, 224, 224, 16)      416       \n",
      "_________________________________________________________________\n",
      "activation (Activation)      (None, 224, 224, 16)      0         \n",
      "_________________________________________________________________\n",
      "max_pooling2d (MaxPooling2D) (None, 112, 112, 16)      0         \n",
      "_________________________________________________________________\n",
      "conv2d_1 (Conv2D)            (None, 112, 112, 32)      12832     \n",
      "_________________________________________________________________\n",
      "activation_1 (Activation)    (None, 112, 112, 32)      0         \n",
      "_________________________________________________________________\n",
      "max_pooling2d_1 (MaxPooling2 (None, 56, 56, 32)        0         \n",
      "_________________________________________________________________\n",
      "conv2d_2 (Conv2D)            (None, 56, 56, 32)        25632     \n",
      "_________________________________________________________________\n",
      "activation_2 (Activation)    (None, 56, 56, 32)        0         \n",
      "_________________________________________________________________\n",
      "max_pooling2d_2 (MaxPooling2 (None, 28, 28, 32)        0         \n",
      "_________________________________________________________________\n",
      "dense (Dense)                (None, 28, 28, 128)       4224      \n",
      "_________________________________________________________________\n",
      "activation_3 (Activation)    (None, 28, 28, 128)       0         \n",
      "_________________________________________________________________\n",
      "dense_1 (Dense)              (None, 28, 28, 64)        8256      \n",
      "_________________________________________________________________\n",
      "activation_4 (Activation)    (None, 28, 28, 64)        0         \n",
      "_________________________________________________________________\n",
      "flatten (Flatten)            (None, 50176)             0         \n",
      "_________________________________________________________________\n",
      "dense_2 (Dense)              (None, 120)               6021240   \n",
      "_________________________________________________________________\n",
      "activation_5 (Activation)    (None, 120)               0         \n",
      "=================================================================\n",
      "Total params: 6,072,600\n",
      "Trainable params: 6,072,600\n",
      "Non-trainable params: 0\n",
      "_________________________________________________________________\n"
     ]
    }
   ],
   "source": [
    "#--input layer\n",
    "xi = Input(shape=(224,224,1)) \n",
    "\n",
    "#normalization layer\n",
    "mean = X_train.mean(axis=0)\n",
    "std = X_train.std(axis=0) + 1e-5\n",
    "x = Lambda(lambda image, mu, std: (image - mu) / std,arguments={'mu': mean, 'std': std})(xi)\n",
    "\n",
    "#--hidden layer1\n",
    "x = Conv2D(filters=16,\n",
    "           kernel_size=5,\n",
    "           strides=1,#shift of the filter\n",
    "           padding='same')(x)\n",
    "x = Activation('relu')(x)    \n",
    "x = MaxPooling2D(pool_size=2,strides=2)(x)\n",
    "\n",
    "#hidden layer 2\n",
    "x = Conv2D(filters=32,\n",
    "          kernel_size=5,\n",
    "           strides=1,#shift of the filter\n",
    "           padding='same')(x)\n",
    "x = Activation('relu')(x)    \n",
    "x = MaxPooling2D(pool_size=2,strides=2)(x)\n",
    "\n",
    "#hidden layer 3\n",
    "x = Conv2D(filters=32,\n",
    "          kernel_size=5,\n",
    "           strides=1,#shift of the filter\n",
    "           padding='same')(x)\n",
    "x = Activation('relu')(x)    \n",
    "x = MaxPooling2D(pool_size=2,strides=2)(x)\n",
    "\n",
    "#hidden layer 4\n",
    "x = Dense(128)(x)\n",
    "x = Activation('relu')(x)\n",
    "\n",
    "#hidden layer 5\n",
    "x = Dense(64)(x)\n",
    "x = Activation('relu')(x)\n",
    "\n",
    "#--output layer\n",
    "x = Flatten()(x)\n",
    "xo = Dense(len(dog_names))(x)\n",
    "yo = Activation('softmax')(xo)\n",
    "\n",
    "model = Model(inputs=[xi], outputs=[yo])\n",
    "\n",
    "model.summary()"
   ]
  },
  {
   "cell_type": "code",
   "execution_count": 16,
   "metadata": {},
   "outputs": [],
   "source": [
    "model.compile(optimizer='adam', loss='categorical_crossentropy', metrics=['accuracy'])"
   ]
  },
  {
   "cell_type": "code",
   "execution_count": 17,
   "metadata": {},
   "outputs": [
    {
     "name": "stdout",
     "output_type": "stream",
     "text": [
      ".\\logs_linear\\linear-2\n"
     ]
    }
   ],
   "source": [
    "run_name = \"linear\"\n",
    "logpath = generate_unique_logpath(\".\\logs_linear\", run_name)\n",
    "print(logpath)\n",
    "tbcb = TensorBoard(log_dir=logpath)\n",
    "checkpoint_filepath = os.path.join(logpath,  \"best_model.h5\")\n",
    "checkpoint_cb = ModelCheckpoint(checkpoint_filepath, save_best_only=True)"
   ]
  },
  {
   "cell_type": "code",
   "execution_count": 18,
   "metadata": {},
   "outputs": [
    {
     "name": "stdout",
     "output_type": "stream",
     "text": [
      "Train on 6439 samples, validate on 716 samples\n",
      "Epoch 1/20\n",
      "6439/6439 [==============================] - 169s 26ms/sample - loss: 4.7492 - accuracy: 0.0186 - val_loss: 4.6647 - val_accuracy: 0.0279\n",
      "Epoch 2/20\n",
      "6439/6439 [==============================] - 167s 26ms/sample - loss: 4.4668 - accuracy: 0.0513 - val_loss: 4.6037 - val_accuracy: 0.0321\n",
      "Epoch 3/20\n",
      "6439/6439 [==============================] - 166s 26ms/sample - loss: 3.9436 - accuracy: 0.1291 - val_loss: 4.7533 - val_accuracy: 0.0391\n",
      "Epoch 4/20\n",
      "6439/6439 [==============================] - 162s 25ms/sample - loss: 2.2908 - accuracy: 0.4502 - val_loss: 6.3818 - val_accuracy: 0.0405\n",
      "Epoch 5/20\n",
      "6439/6439 [==============================] - 168s 26ms/sample - loss: 0.4282 - accuracy: 0.8930 - val_loss: 10.9787 - val_accuracy: 0.0293\n",
      "Epoch 6/20\n",
      "6439/6439 [==============================] - 167s 26ms/sample - loss: 0.0616 - accuracy: 0.9884 - val_loss: 14.4837 - val_accuracy: 0.0321\n",
      "Epoch 7/20\n",
      "6439/6439 [==============================] - 174s 27ms/sample - loss: 0.0195 - accuracy: 0.9980 - val_loss: 12.9462 - val_accuracy: 0.0293\n",
      "Epoch 8/20\n",
      "6439/6439 [==============================] - 170s 26ms/sample - loss: 0.0105 - accuracy: 0.9994 - val_loss: 13.2427 - val_accuracy: 0.0307\n",
      "Epoch 9/20\n",
      "6439/6439 [==============================] - 196s 31ms/sample - loss: 0.0109 - accuracy: 0.9992 - val_loss: 12.2008 - val_accuracy: 0.0293\n",
      "Epoch 10/20\n",
      "6439/6439 [==============================] - 190s 30ms/sample - loss: 0.0106 - accuracy: 0.9992 - val_loss: 12.8118 - val_accuracy: 0.0363\n",
      "Epoch 11/20\n",
      "6439/6439 [==============================] - 189s 29ms/sample - loss: 0.0132 - accuracy: 0.9991 - val_loss: 12.1922 - val_accuracy: 0.0307\n",
      "Epoch 12/20\n",
      "6439/6439 [==============================] - 176s 27ms/sample - loss: 0.0060 - accuracy: 0.9994 - val_loss: 12.9482 - val_accuracy: 0.0321\n",
      "Epoch 13/20\n",
      "6439/6439 [==============================] - 174s 27ms/sample - loss: 0.0084 - accuracy: 0.9992 - val_loss: 12.1831 - val_accuracy: 0.0293\n",
      "Epoch 14/20\n",
      "6439/6439 [==============================] - 173s 27ms/sample - loss: 0.0075 - accuracy: 0.9994 - val_loss: 11.5709 - val_accuracy: 0.0307\n",
      "Epoch 15/20\n",
      "6439/6439 [==============================] - 173s 27ms/sample - loss: 0.0067 - accuracy: 0.9995 - val_loss: 11.7917 - val_accuracy: 0.0293\n",
      "Epoch 16/20\n",
      "6439/6439 [==============================] - 173s 27ms/sample - loss: 0.0079 - accuracy: 0.9992 - val_loss: 10.6641 - val_accuracy: 0.0293\n",
      "Epoch 17/20\n",
      "6439/6439 [==============================] - 171s 27ms/sample - loss: 0.0082 - accuracy: 0.9992 - val_loss: 11.3280 - val_accuracy: 0.0335\n",
      "Epoch 18/20\n",
      "6439/6439 [==============================] - 177s 27ms/sample - loss: 0.0074 - accuracy: 0.9994 - val_loss: 10.8859 - val_accuracy: 0.0321\n",
      "Epoch 19/20\n",
      "6439/6439 [==============================] - 193s 30ms/sample - loss: 0.0075 - accuracy: 0.9992 - val_loss: 10.8380 - val_accuracy: 0.0321\n",
      "Epoch 20/20\n",
      "6439/6439 [==============================] - 191s 30ms/sample - loss: 0.0056 - accuracy: 0.9994 - val_loss: 11.3317 - val_accuracy: 0.0321\n"
     ]
    },
    {
     "data": {
      "text/plain": [
       "<tensorflow.python.keras.callbacks.History at 0x25c7e449948>"
      ]
     },
     "execution_count": 18,
     "metadata": {},
     "output_type": "execute_result"
    }
   ],
   "source": [
    "model.fit(X_train, y_train,\n",
    "          batch_size=128,\n",
    "          epochs=20,\n",
    "          verbose=1,\n",
    "          validation_split=0.1,\n",
    "          callbacks=[tbcb,checkpoint_cb])"
   ]
  },
  {
   "cell_type": "code",
   "execution_count": 19,
   "metadata": {},
   "outputs": [
    {
     "name": "stdout",
     "output_type": "stream",
     "text": [
      "Test loss: 11.110258739858253\n",
      "Test accuracy: 0.03488751\n"
     ]
    }
   ],
   "source": [
    "score = model.evaluate(X_test, y_test, verbose=0)\n",
    "print('Test loss:', score[0])\n",
    "print('Test accuracy:', score[1])"
   ]
  },
  {
   "cell_type": "code",
   "execution_count": null,
   "metadata": {},
   "outputs": [],
   "source": []
  }
 ],
 "metadata": {
  "kernelspec": {
   "display_name": "Python 3",
   "language": "python",
   "name": "python3"
  },
  "language_info": {
   "codemirror_mode": {
    "name": "ipython",
    "version": 3
   },
   "file_extension": ".py",
   "mimetype": "text/x-python",
   "name": "python",
   "nbconvert_exporter": "python",
   "pygments_lexer": "ipython3",
   "version": "3.7.7"
  }
 },
 "nbformat": 4,
 "nbformat_minor": 4
}
